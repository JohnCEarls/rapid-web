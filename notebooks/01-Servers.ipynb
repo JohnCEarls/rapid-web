{
 "metadata": {
  "name": "01-Servers"
 },
 "nbformat": 3,
 "nbformat_minor": 0,
 "worksheets": [
  {
   "cells": [
    {
     "cell_type": "heading",
     "level": 2,
     "metadata": {},
     "source": [
      "Werkzeug Development Server"
     ]
    },
    {
     "cell_type": "code",
     "collapsed": false,
     "input": [
      "HOST=\"0.0.0.0\"\n",
      "PORT=4001\n",
      "\n",
      "from werkzeug.wrappers import Request, Response\n",
      "\n",
      "@Request.application\n",
      "def app(request):\n",
      "    print request.path\n",
      "    print request.headers\n",
      "    return Response(\"hello, world!\")\n",
      "\n",
      "from werkzeug.serving import run_simple\n",
      "run_simple(HOST, PORT, app)"
     ],
     "language": "python",
     "metadata": {},
     "outputs": []
    },
    {
     "cell_type": "markdown",
     "metadata": {},
     "source": [
      "After running the above, visit http://hacknode.alephpoint.com on your specified port."
     ]
    },
    {
     "cell_type": "heading",
     "level": 2,
     "metadata": {},
     "source": [
      "Enable Web-based Debugging"
     ]
    },
    {
     "cell_type": "code",
     "collapsed": true,
     "input": [
      "HOST=\"0.0.0.0\"\n",
      "PORT=4001\n",
      "\n",
      "from werkzeug.wrappers import Request, Response\n",
      "from werkzeug.debug import DebuggedApplication\n",
      "\n",
      "@Request.application\n",
      "def app(request):\n",
      "    raise ValueError(\"testing debugger\")\n",
      "    return Response(\"hello, world!\")\n",
      "\n",
      "app = DebuggedApplication(app, evalex=True)\n",
      "\n",
      "from werkzeug.serving import run_simple\n",
      "run_simple(HOST, PORT, app)"
     ],
     "language": "python",
     "metadata": {},
     "outputs": []
    },
    {
     "cell_type": "markdown",
     "metadata": {},
     "source": [
      "After running the above, visit http://hacknode.alephpoint.com on your specified port."
     ]
    }
   ],
   "metadata": {}
  }
 ]
}