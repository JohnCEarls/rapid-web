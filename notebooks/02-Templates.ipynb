{
 "metadata": {
  "name": "02-Templates"
 },
 "nbformat": 3,
 "nbformat_minor": 0,
 "worksheets": [
  {
   "cells": [
    {
     "cell_type": "heading",
     "level": 2,
     "metadata": {},
     "source": [
      "Jinja2 Filesystem Loader"
     ]
    },
    {
     "cell_type": "code",
     "collapsed": false,
     "input": [
      "from jinja2 import Template\n",
      "tmpl = \"\"\"\n",
      "<table>\n",
      "    <tr>\n",
      "        <td><strong>Number</strong></td>\n",
      "        <td><strong>Square</strong></td>\n",
      "    </tr>\n",
      "    {%- for item in rows %}\n",
      "        <tr>\n",
      "            <td>{{ item.number }}</td>\n",
      "            <td>{{ item.square }}</td>\n",
      "        </tr>\n",
      "    {%- endfor %}\n",
      "<table>\n",
      "\"\"\"\n",
      "squares = [{\"number\": number, \"square\": number*number}\n",
      "    for number in range(5)]\n",
      "squares"
     ],
     "language": "python",
     "metadata": {},
     "outputs": []
    },
    {
     "cell_type": "code",
     "collapsed": false,
     "input": [
      "print Template(tmpl).render(rows=squares)"
     ],
     "language": "python",
     "metadata": {},
     "outputs": []
    }
   ],
   "metadata": {}
  }
 ]
}