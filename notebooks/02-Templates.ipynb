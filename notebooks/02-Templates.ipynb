{
 "metadata": {
  "name": "02-Templates"
 },
 "nbformat": 3,
 "nbformat_minor": 0,
 "worksheets": [
  {
   "cells": [
    {
     "cell_type": "heading",
     "level": 2,
     "metadata": {},
     "source": [
      "Jinja2 Filesystem Loader"
     ]
    },
    {
     "cell_type": "code",
     "collapsed": false,
     "input": [
      "from jinja2 import Template\n",
      "tmpl = \"\"\"\n",
      "<table>\n",
      "    <tr>\n",
      "        <td><strong>Number</strong></td>\n",
      "        <td><strong>Square</strong></td>\n",
      "    </tr>\n",
      "    {%- for item in rows %}\n",
      "        <tr>\n",
      "            <td>{{ item.number }}</td>\n",
      "            <td>{{ item.square }}</td>\n",
      "        </tr>\n",
      "    {%- endfor %}\n",
      "<table>\n",
      "\"\"\"\n",
      "squares = [{\"number\": number, \"square\": number*number}\n",
      "    for number in range(5)]\n",
      "squares"
     ],
     "language": "python",
     "metadata": {},
     "outputs": [
      {
       "output_type": "pyout",
       "prompt_number": 13,
       "text": [
        "[{'number': 0, 'square': 0},\n",
        " {'number': 1, 'square': 1},\n",
        " {'number': 2, 'square': 4},\n",
        " {'number': 3, 'square': 9},\n",
        " {'number': 4, 'square': 16}]"
       ]
      }
     ],
     "prompt_number": 13
    },
    {
     "cell_type": "code",
     "collapsed": false,
     "input": [
      "print Template(tmpl).render(rows=squares)"
     ],
     "language": "python",
     "metadata": {},
     "outputs": [
      {
       "output_type": "stream",
       "stream": "stdout",
       "text": [
        "\n",
        "<table>\n",
        "    <tr>\n",
        "        <td><strong>Number</strong></td>\n",
        "        <td><strong>Square</strong></td>\n",
        "    </tr>\n",
        "        <tr>\n",
        "            <td>0</td>\n",
        "            <td>0</td>\n",
        "        </tr>\n",
        "        <tr>\n",
        "            <td>1</td>\n",
        "            <td>1</td>\n",
        "        </tr>\n",
        "        <tr>\n",
        "            <td>2</td>\n",
        "            <td>4</td>\n",
        "        </tr>\n",
        "        <tr>\n",
        "            <td>3</td>\n",
        "            <td>9</td>\n",
        "        </tr>\n",
        "        <tr>\n",
        "            <td>4</td>\n",
        "            <td>16</td>\n",
        "        </tr>\n",
        "<table>\n"
       ]
      }
     ],
     "prompt_number": 15
    }
   ],
   "metadata": {}
  }
 ]
}