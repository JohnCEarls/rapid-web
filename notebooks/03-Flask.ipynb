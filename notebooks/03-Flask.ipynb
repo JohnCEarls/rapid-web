{
 "metadata": {
  "name": "03-Flask"
 },
 "nbformat": 3,
 "nbformat_minor": 0,
 "worksheets": [
  {
   "cells": [
    {
     "cell_type": "code",
     "collapsed": false,
     "input": [
      "USER = \"user1\""
     ],
     "language": "python",
     "metadata": {},
     "outputs": []
    },
    {
     "cell_type": "heading",
     "level": 2,
     "metadata": {},
     "source": [
      "\"Data Access Layer\""
     ]
    },
    {
     "cell_type": "code",
     "collapsed": false,
     "input": [
      "def top_articles():\n",
      "    return [\n",
      "        {\"title\": \"Google\",\n",
      "         \"link\": \"http://google.com\",\n",
      "         \"date\": \"just now\"\n",
      "        },\n",
      "        {\"title\": \"Yahoo\",\n",
      "         \"link\": \"http://yahoo.com\",\n",
      "         \"date\": \"1 minute ago\"\n",
      "        }\n",
      "   ]"
     ],
     "language": "python",
     "metadata": {},
     "outputs": []
    },
    {
     "cell_type": "heading",
     "level": 2,
     "metadata": {},
     "source": [
      "Write Out a Template File"
     ]
    },
    {
     "cell_type": "code",
     "collapsed": false,
     "input": [
      "from os import mkdir, listdir\n",
      "try: \n",
      "    mkdir(\"templates\")\n",
      "except:\n",
      "    pass"
     ],
     "language": "python",
     "metadata": {},
     "outputs": []
    },
    {
     "cell_type": "code",
     "collapsed": false,
     "input": [
      "tmpl = \"\"\"\n",
      "<ul>\n",
      "{% for row in rows %}\n",
      "     <li>{{ row }}</li>\n",
      "{% endfor %}\n",
      "</ul>\n",
      "\"\"\"\n",
      "user_template = USER + \".jinja2.html\"\n",
      "tmpl_file = open(\"templates/\" + user_template, \"w\")\n",
      "tmpl_file.write(tmpl)\n",
      "tmpl_file.close()"
     ],
     "language": "python",
     "metadata": {},
     "outputs": []
    },
    {
     "cell_type": "code",
     "collapsed": false,
     "input": [
      "files = listdir(\"templates\")\n",
      "assert user_template in files, user_template + \" missing\""
     ],
     "language": "python",
     "metadata": {},
     "outputs": []
    },
    {
     "cell_type": "heading",
     "level": 2,
     "metadata": {},
     "source": [
      "Web App Structure"
     ]
    },
    {
     "cell_type": "code",
     "collapsed": false,
     "input": [
      "from flask import Flask, render_template\n",
      "\n",
      "app = Flask(\"app\")\n",
      "app.debug = True\n",
      "\n",
      "@app.route('/')\n",
      "def index():\n",
      "    articles = top_articles()\n",
      "    return render_template(user_template,\n",
      "                           rows=articles)"
     ],
     "language": "python",
     "metadata": {},
     "outputs": []
    },
    {
     "cell_type": "code",
     "collapsed": false,
     "input": [
      "app.run(host=\"0.0.0.0\", port=4005, use_reloader=False)"
     ],
     "language": "python",
     "metadata": {},
     "outputs": []
    }
   ],
   "metadata": {}
  }
 ]
}