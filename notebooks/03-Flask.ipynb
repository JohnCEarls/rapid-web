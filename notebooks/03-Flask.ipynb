{
 "metadata": {
  "name": "03-Flask"
 },
 "nbformat": 3,
 "nbformat_minor": 0,
 "worksheets": [
  {
   "cells": [
    {
     "cell_type": "heading",
     "level": 2,
     "metadata": {},
     "source": [
      "\"Data Access Layer\""
     ]
    },
    {
     "cell_type": "code",
     "collapsed": false,
     "input": [
      "def top_articles():\n",
      "    return [\n",
      "        {\"title\": \"Google\",\n",
      "         \"link\": \"http://google.com\",\n",
      "         \"date\": \"just now\"\n",
      "        },\n",
      "        {\"title\": \"Yahoo\",\n",
      "         \"link\": \"http://yahoo.com\",\n",
      "         \"date\": \"1 minute ago\"\n",
      "        }\n",
      "   ]"
     ],
     "language": "python",
     "metadata": {},
     "outputs": []
    },
    {
     "cell_type": "heading",
     "level": 2,
     "metadata": {},
     "source": [
      "Write Out a Template File"
     ]
    },
    {
     "cell_type": "code",
     "collapsed": false,
     "input": [
      "!mkdir -p templates"
     ],
     "language": "python",
     "metadata": {},
     "outputs": []
    },
    {
     "cell_type": "code",
     "collapsed": false,
     "input": [
      "tmpl = \"\"\"\n",
      "<ul>\n",
      "{% for row in rows %}\n",
      "     <li>{{ row }}</li>\n",
      "{% endfor %}\n",
      "</ul>\n",
      "\"\"\"\n",
      "tmpl_file = open(\"templates/rows.jinja2.html\", \"w\")\n",
      "tmpl_file.write(tmpl)\n",
      "tmpl_file.close()"
     ],
     "language": "python",
     "metadata": {},
     "outputs": []
    },
    {
     "cell_type": "code",
     "collapsed": false,
     "input": [
      "!ls templates/"
     ],
     "language": "python",
     "metadata": {},
     "outputs": []
    },
    {
     "cell_type": "code",
     "collapsed": false,
     "input": [
      "!cat templates/rows.jinja2.html"
     ],
     "language": "python",
     "metadata": {},
     "outputs": []
    },
    {
     "cell_type": "heading",
     "level": 2,
     "metadata": {},
     "source": [
      "Web App Structure"
     ]
    },
    {
     "cell_type": "code",
     "collapsed": false,
     "input": [
      "from flask import Flask, render_template\n",
      "\n",
      "app = Flask(\"app\")\n",
      "app.debug = True\n",
      "\n",
      "@app.route('/')\n",
      "def index():\n",
      "    articles = top_articles()\n",
      "    return render_template(\"rows.jinja2.html\",\n",
      "                           rows=articles)"
     ],
     "language": "python",
     "metadata": {},
     "outputs": []
    },
    {
     "cell_type": "code",
     "collapsed": false,
     "input": [
      "PORT=4001\n",
      "app.run(host=\"0.0.0.0\", port=PORT, use_reloader=False)"
     ],
     "language": "python",
     "metadata": {},
     "outputs": []
    }
   ],
   "metadata": {}
  }
 ]
}