{
 "metadata": {
  "name": "04-Contexts"
 },
 "nbformat": 3,
 "nbformat_minor": 0,
 "worksheets": [
  {
   "cells": [
    {
     "cell_type": "code",
     "collapsed": false,
     "input": [
      "from flask import Flask, request, session, g, Response\n",
      "\n",
      "app = Flask(\"app\")\n",
      "app.debug = True\n",
      "app.secret_key = \"d34db33f\"\n",
      "\n",
      "@app.route('/')\n",
      "def index():\n",
      "    # the \"request context\"\n",
      "    print \"request\", request\n",
      "    # the \"session\" context\n",
      "    if \"i\" not in session:\n",
      "        session[\"i\"] = 0\n",
      "    else:\n",
      "        session[\"i\"] += 1\n",
      "    print \"session\", session\n",
      "    return Response(\"saved\")\n",
      "app.run(host=\"0.0.0.0\", port=4008, use_reloader=False) "
     ],
     "language": "python",
     "metadata": {},
     "outputs": []
    }
   ],
   "metadata": {}
  }
 ]
}